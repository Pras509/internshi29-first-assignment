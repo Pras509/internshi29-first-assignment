{
 "cells": [
  {
   "cell_type": "code",
   "execution_count": 5,
   "id": "5cd4a9ee",
   "metadata": {},
   "outputs": [],
   "source": [
    "# Q. 11) write a pytho program to find a factorial of a number\n"
   ]
  },
  {
   "cell_type": "code",
   "execution_count": 1,
   "id": "823c4dbd",
   "metadata": {},
   "outputs": [
    {
     "name": "stdout",
     "output_type": "stream",
     "text": [
      "Enter the number14\n",
      "Factorial of number is  87178291200\n"
     ]
    }
   ],
   "source": [
    "a = int(input(\"Enter the number\"))\n",
    "\n",
    "factorial = 1\n",
    "\n",
    "while a>0:\n",
    "    factorial = factorial * a\n",
    "    a = a-1\n",
    "print(\"Factorial of number is \", factorial)\n",
    "    "
   ]
  },
  {
   "cell_type": "code",
   "execution_count": 10,
   "id": "59abdf5f",
   "metadata": {},
   "outputs": [],
   "source": [
    "# Q 12. write a python program to find a number is prime or composite\n"
   ]
  },
  {
   "cell_type": "code",
   "execution_count": 2,
   "id": "c416ee7a",
   "metadata": {},
   "outputs": [
    {
     "name": "stdout",
     "output_type": "stream",
     "text": [
      "Enter the numuber47\n",
      "it is a prime number\n"
     ]
    }
   ],
   "source": [
    "a = int(input(\"Enter the numuber\"))\n",
    "\n",
    "count = 0\n",
    "i = 1\n",
    "\n",
    "while i<= a:\n",
    "    if  a%i == 0:\n",
    "        count = count + 1\n",
    "    i= 1 + i\n",
    "if count == 2:\n",
    "    print(\"it is a prime number\")\n",
    "elif count >2:\n",
    "    print(\"it is a composite number\")\n",
    "else:\n",
    "    print(\"its something else\")"
   ]
  },
  {
   "cell_type": "code",
   "execution_count": 6,
   "id": "8657ac50",
   "metadata": {},
   "outputs": [
    {
     "name": "stdout",
     "output_type": "stream",
     "text": [
      "Enter string:-maaaam\n",
      "Its a palindrome\n"
     ]
    }
   ],
   "source": [
    "#Q 13 Write a phython program to check wether a given number is a palindrome number or not\n",
    "\n",
    "a = input(\"Enter string:-\")\n",
    "b = a[-1::-1]\n",
    "if a==b:\n",
    "    print(\"Its a palindrome\")\n",
    "else:\n",
    "    print(\"its not a palindrome\")\n",
    "    "
   ]
  },
  {
   "cell_type": "code",
   "execution_count": 17,
   "id": "95fd2ddf",
   "metadata": {
    "scrolled": true
   },
   "outputs": [
    {
     "name": "stdout",
     "output_type": "stream",
     "text": [
      "hypo = 5.0\n",
      "adja_side = 8.0\n",
      "opp_side = 8.0\n"
     ]
    }
   ],
   "source": [
    "# Q 14. write a python program to get the third side of right-angled triangle from two given sides.\n",
    "\n",
    "def pythagoras(opp_side, adja_side, hypo):\n",
    "    if opp_side == str(\"x\"):\n",
    "        return(\"opp_side = \" + str(((hypo**2)- (adja_side**2))**0.5))\n",
    "    elif adja_side == str(\"x\"):\n",
    "        return(\"adja_side = \" + str(((hypo**2) - (opp_side**2))**0.5))\n",
    "    elif hypo == str(\"x\"):\n",
    "        return(\"hypo = \" + str(((opp_side**2) + (adja_side**2))**0.5))\n",
    "    else:\n",
    "        print(\"sorry the input is not valid\")\n",
    "        \n",
    "print(pythagoras(3, 4, \"x\"))\n",
    "print(pythagoras (6, 'x', 10))\n",
    "print(pythagoras ('x', 6, 10))\n"
   ]
  },
  {
   "cell_type": "code",
   "execution_count": 19,
   "id": "7beaf39a",
   "metadata": {},
   "outputs": [
    {
     "name": "stdout",
     "output_type": "stream",
     "text": [
      "Enter the stringdatasciencedatascience\n",
      "{'d': 2, 'a': 4, 't': 2, 's': 2, 'c': 4, 'i': 2, 'e': 4, 'n': 2}\n"
     ]
    }
   ],
   "source": [
    "# Q 15. Write a python program to print the frequency of each of the following characters present in a given string.\n",
    "\n",
    "str = input(\"Enter the string\")\n",
    "d = dict()\n",
    "\n",
    "for c in str:\n",
    "    if c in d:\n",
    "        d[c]= d[c] + 1\n",
    "    else:\n",
    "        d[c]= 1\n",
    "print(d)"
   ]
  },
  {
   "cell_type": "code",
   "execution_count": null,
   "id": "90ce1f30",
   "metadata": {},
   "outputs": [],
   "source": []
  }
 ],
 "metadata": {
  "kernelspec": {
   "display_name": "Python 3 (ipykernel)",
   "language": "python",
   "name": "python3"
  },
  "language_info": {
   "codemirror_mode": {
    "name": "ipython",
    "version": 3
   },
   "file_extension": ".py",
   "mimetype": "text/x-python",
   "name": "python",
   "nbconvert_exporter": "python",
   "pygments_lexer": "ipython3",
   "version": "3.9.12"
  }
 },
 "nbformat": 4,
 "nbformat_minor": 5
}
